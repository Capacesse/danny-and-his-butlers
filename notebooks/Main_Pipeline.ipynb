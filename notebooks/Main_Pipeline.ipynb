{
  "nbformat": 4,
  "nbformat_minor": 0,
  "metadata": {
    "colab": {
      "provenance": [],
      "gpuType": "V28"
    },
    "kernelspec": {
      "name": "python3",
      "display_name": "Python 3"
    },
    "language_info": {
      "name": "python"
    },
    "accelerator": "TPU"
  },
  "cells": [
    {
      "cell_type": "markdown",
      "source": [
        "Import necessary libraries"
      ],
      "metadata": {
        "id": "bYjsfuFENr6g"
      }
    },
    {
      "cell_type": "code",
      "execution_count": 1,
      "metadata": {
        "id": "TOr15U0DlWA9"
      },
      "outputs": [],
      "source": [
        "import torch\n",
        "import pandas as pd\n",
        "from transformers import AutoTokenizer, AutoModelForCausalLM, BitsAndBytesConfig\n",
        "from google.colab import userdata"
      ]
    },
    {
      "cell_type": "markdown",
      "source": [
        "Authenticate w/ Hugging Face Token"
      ],
      "metadata": {
        "id": "ynpSNE0EOFT2"
      }
    },
    {
      "cell_type": "code",
      "source": [
        "huggingface_token = userdata.get('TikTokTechJam2025')\n",
        "\n",
        "if huggingface_token:\n",
        "  print(\"HuggingFace token successfully found.\")\n",
        "else:\n",
        "  print(\"HuggingFace token not found. Please add it to the Secrets manager using the name 'TikTokTechJam2025'.\")"
      ],
      "metadata": {
        "colab": {
          "base_uri": "https://localhost:8080/"
        },
        "id": "--qFJ9gCNv-8",
        "outputId": "e933bff0-019e-4cec-e41e-8079575d58cd"
      },
      "execution_count": 24,
      "outputs": [
        {
          "output_type": "stream",
          "name": "stdout",
          "text": [
            "HuggingFace token successfully found.\n"
          ]
        }
      ]
    }
  ]
}